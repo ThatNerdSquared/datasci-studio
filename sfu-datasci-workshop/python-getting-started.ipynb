{
  "nbformat": 4,
  "nbformat_minor": 0,
  "metadata": {
    "colab": {
      "name": "Getting Started with Python - Student.ipynb",
      "provenance": [],
      "collapsed_sections": [],
      "include_colab_link": true
    },
    "kernelspec": {
      "name": "python3",
      "display_name": "Python 3"
    },
    "language_info": {
      "name": "python"
    }
  },
  "cells": [
    {
      "cell_type": "markdown",
      "metadata": {
        "id": "view-in-github",
        "colab_type": "text"
      },
      "source": [
        "<a href=\"https://colab.research.google.com/github/ThatNerdSquared/datasci/blob/main/python-getting-started.ipynb\" target=\"_parent\"><img src=\"https://colab.research.google.com/assets/colab-badge.svg\" alt=\"Open In Colab\"/></a>"
      ]
    },
    {
      "cell_type": "markdown",
      "metadata": {
        "id": "yb8N2W2j_tnj"
      },
      "source": [
        "# Getting Started with Python\n",
        "Authors: Neha Sharma & Eva Yap"
      ]
    },
    {
      "cell_type": "markdown",
      "metadata": {
        "id": "xXyVVrZinr61"
      },
      "source": [
        "What is Python?\n",
        "\n",
        "Python is a popular programming language. It was created by Guido van Rossum, and released in 1991.\n",
        "\n",
        "It is used for:\n",
        "1. Web development (server-side)\n",
        "2. Software development\n",
        "3. Mathematics\n",
        "4. System scripting\n"
      ]
    },
    {
      "cell_type": "code",
      "metadata": {
        "id": "8IJj85wr_M1I",
        "colab": {
          "base_uri": "https://localhost:8080/"
        },
        "outputId": "4ec85030-57b1-4514-e63e-bcaff6c5537a"
      },
      "source": [
        "# Getting Started\n",
        "print(\"Hello, World!\")"
      ],
      "execution_count": null,
      "outputs": [
        {
          "output_type": "stream",
          "name": "stdout",
          "text": [
            "Hello, World!\n"
          ]
        }
      ]
    },
    {
      "cell_type": "markdown",
      "metadata": {
        "id": "XkDJliTLAxM4"
      },
      "source": [
        "# Python Indentation\n",
        "* Indentation refers to the spaces at the beginning of a code line.\n",
        "* Python uses indentation to indicate a block of code."
      ]
    },
    {
      "cell_type": "code",
      "metadata": {
        "id": "tkZAYaqVnQl1",
        "colab": {
          "base_uri": "https://localhost:8080/"
        },
        "outputId": "4f41f86c-e794-4951-98ba-83d177614577"
      },
      "source": [
        "if 5 > 2:\n",
        " print(\"Five is greater than two!\")"
      ],
      "execution_count": null,
      "outputs": [
        {
          "output_type": "stream",
          "name": "stdout",
          "text": [
            "Five is greater than two!\n"
          ]
        }
      ]
    },
    {
      "cell_type": "code",
      "metadata": {
        "id": "xbTefHEqo98E",
        "colab": {
          "base_uri": "https://localhost:8080/"
        },
        "outputId": "90f06276-abf8-43c2-9021-b8c47004c7e7"
      },
      "source": [
        "# You have to use the same number of spaces in the same block of code, otherwise Python will give you an error:\n",
        "if 5 > 7:\n",
        " print(\"Five is greater than two!\")\n",
        "print(\"Five is greater than two!\")"
      ],
      "execution_count": null,
      "outputs": [
        {
          "output_type": "stream",
          "name": "stdout",
          "text": [
            "Five is greater than two!\n"
          ]
        }
      ]
    },
    {
      "cell_type": "markdown",
      "metadata": {
        "id": "YgeUNAGoKUor"
      },
      "source": [
        "# Variables\n",
        "Variables are containers for storing data values.\n",
        "\n",
        "## Creating Variables\n",
        "Python has no command for declaring a variable.\n",
        "\n",
        "A variable is created the moment you first assign a value to it."
      ]
    },
    {
      "cell_type": "code",
      "metadata": {
        "id": "7EKCp-PepOPo",
        "colab": {
          "base_uri": "https://localhost:8080/"
        },
        "outputId": "3f6e88b7-b496-4856-f33c-23df109d2db1"
      },
      "source": [
        "x = 5\n",
        "y = \"John\"\n",
        "print(x)\n",
        "print(y)"
      ],
      "execution_count": null,
      "outputs": [
        {
          "output_type": "stream",
          "name": "stdout",
          "text": [
            "5\n",
            "John\n"
          ]
        }
      ]
    },
    {
      "cell_type": "markdown",
      "metadata": {
        "id": "RU4jp5_DaO5-"
      },
      "source": [
        "Variables do not need to be declared with any particular type, and can even change type after they have been set."
      ]
    },
    {
      "cell_type": "code",
      "metadata": {
        "id": "PPaaZlU6pzx7",
        "colab": {
          "base_uri": "https://localhost:8080/"
        },
        "outputId": "cd99bd2b-2c5b-43ab-c64d-93cf5b376a92"
      },
      "source": [
        "x = 4       # x is of type int\n",
        "x = \"Sally\" # x is now of type str\n",
        "print(x)"
      ],
      "execution_count": null,
      "outputs": [
        {
          "output_type": "stream",
          "name": "stdout",
          "text": [
            "Sally\n"
          ]
        }
      ]
    },
    {
      "cell_type": "code",
      "source": [
        ""
      ],
      "metadata": {
        "id": "YK97RkKI7Iu8"
      },
      "execution_count": null,
      "outputs": []
    },
    {
      "cell_type": "markdown",
      "metadata": {
        "id": "PO39L8jHOHh8"
      },
      "source": [
        "## Naming Variables\n",
        "A variable can have a short name (like x and y) or a more descriptive name (age, carname, total_volume). \n",
        "\n",
        "### Rules for Python variables:\n",
        "* A variable name must start with a letter or the underscore character\n",
        "* A variable name cannot start with a number\n",
        "* A variable name can only contain alpha-numeric characters and underscores (A-z, 0-9, and _ )\n",
        "\n",
        "Remember that variable names are case-sensitive. For example, age, Age and AGE are three different variables.\n"
      ]
    },
    {
      "cell_type": "code",
      "metadata": {
        "id": "_Q17puEasAQO"
      },
      "source": [
        "myvar = \"John\"\n",
        "my_var = \"John\"\n",
        "_my_var = \"John\"\n",
        "myVar = \"John\"\n",
        "MYVAR = \"John\"\n",
        "myvar2 = \"John\"\n",
        "\n",
        "# Illegal variable names\n",
        "2myvar = \"John\"\n",
        "my-var = \"John\"\n",
        "my var = \"John\""
      ],
      "execution_count": null,
      "outputs": []
    },
    {
      "cell_type": "markdown",
      "metadata": {
        "id": "--We0p_dOS_a"
      },
      "source": [
        "## Output Variables\n",
        "* Python print statement is often used to output variables.\n",
        "* To combine both text and a variable, Python uses the ```+``` character."
      ]
    },
    {
      "cell_type": "code",
      "metadata": {
        "id": "mAEwaGgJtilF",
        "colab": {
          "base_uri": "https://localhost:8080/"
        },
        "outputId": "8a14e111-9c69-44b7-e9af-86090521d838"
      },
      "source": [
        "x = \"awesome\"\n",
        "print(\"Python is \" + x)"
      ],
      "execution_count": null,
      "outputs": [
        {
          "output_type": "stream",
          "name": "stdout",
          "text": [
            "Python is awesome\n"
          ]
        }
      ]
    },
    {
      "cell_type": "markdown",
      "metadata": {
        "id": "kL3RCYxMxy8Z"
      },
      "source": [
        "You can also use the ```+``` character to add a variable to another variable."
      ]
    },
    {
      "cell_type": "code",
      "metadata": {
        "id": "IZBnGK9DxExU",
        "colab": {
          "base_uri": "https://localhost:8080/"
        },
        "outputId": "611f7f3f-e498-4887-c748-76bfe549a8c0"
      },
      "source": [
        "# Use the + character to add a variable to another variable\n",
        "x = \"Python is \"\n",
        "y = \"awesome\"\n",
        "z =  x + y\n",
        "print(z)"
      ],
      "execution_count": null,
      "outputs": [
        {
          "output_type": "stream",
          "name": "stdout",
          "text": [
            "Python is awesome\n"
          ]
        }
      ]
    },
    {
      "cell_type": "markdown",
      "metadata": {
        "id": "9IoYTAMByFPj"
      },
      "source": [
        "You can also use the + character to add a variable to another variable."
      ]
    },
    {
      "cell_type": "code",
      "metadata": {
        "id": "prVbClnfxJQD",
        "colab": {
          "base_uri": "https://localhost:8080/"
        },
        "outputId": "24df7eba-2694-4835-e4e6-1f5d9f638662"
      },
      "source": [
        "x = 5\n",
        "y = 1\n",
        "print(x + y)"
      ],
      "execution_count": null,
      "outputs": [
        {
          "output_type": "stream",
          "name": "stdout",
          "text": [
            "6\n"
          ]
        }
      ]
    },
    {
      "cell_type": "markdown",
      "metadata": {
        "id": "LvugM6o-yVA9"
      },
      "source": [
        "But, remember that the variables have to be the same type."
      ]
    },
    {
      "cell_type": "code",
      "metadata": {
        "id": "pFTcI5CRxUwI",
        "colab": {
          "base_uri": "https://localhost:8080/"
        },
        "outputId": "f025fe9e-62a9-4f68-f9fb-61a9cdee4bf2"
      },
      "source": [
        "x = 5\n",
        "y = 6\n",
        "print(x + y)"
      ],
      "execution_count": null,
      "outputs": [
        {
          "output_type": "stream",
          "name": "stdout",
          "text": [
            "11\n"
          ]
        }
      ]
    },
    {
      "cell_type": "markdown",
      "metadata": {
        "id": "hdbsy_TaKDQo"
      },
      "source": [
        "If you want to print multiple variables of different data types using single print."
      ]
    },
    {
      "cell_type": "code",
      "metadata": {
        "id": "fNSSPcXRKPbC",
        "colab": {
          "base_uri": "https://localhost:8080/"
        },
        "outputId": "f0f3a089-02b4-448a-f129-bce9c99b262f"
      },
      "source": [
        "x = 5\n",
        "y = \"John\"\n",
        "print(\"x is %d and y is %s\" %(x,y)) # For integer use %d, string %s, float %f"
      ],
      "execution_count": null,
      "outputs": [
        {
          "output_type": "stream",
          "name": "stdout",
          "text": [
            "x is 5 and y is John\n"
          ]
        }
      ]
    },
    {
      "cell_type": "markdown",
      "metadata": {
        "id": "ALwr_e8vbrKu"
      },
      "source": [
        "# Conditions and If statements\n",
        "Python supports the usual logical conditions from mathematics:\n",
        "\n",
        "* Equals: a == b\n",
        "* Not Equals: a != b\n",
        "* Less than: a < b\n",
        "* Less than or equal to: a <= b\n",
        "* Greater than: a > b\n",
        "* Greater than or equal to: a >= b\n",
        "\n",
        "These conditions can be used in several ways, most commonly in if statements and loops.\n",
        "\n",
        "An if statement is written by using the ```if``` keyword."
      ]
    },
    {
      "cell_type": "code",
      "metadata": {
        "id": "Rx6OFA-kxlVk"
      },
      "source": [
        "# If statement:\n",
        "\n",
        "a = 33\n",
        "b = 200\n",
        "if b > a:\n",
        "  print(\"b is greater than a\")"
      ],
      "execution_count": null,
      "outputs": []
    },
    {
      "cell_type": "markdown",
      "metadata": {
        "id": "ioCAvB3egeWS"
      },
      "source": [
        "## Elif\n",
        "The ```elif``` keyword is Python's way of saying \"if the previous conditions are not true, then try this condition.\""
      ]
    },
    {
      "cell_type": "code",
      "metadata": {
        "id": "Kj8Q-MVGgVFn"
      },
      "source": [
        "a = 33\n",
        "b = 33\n",
        "if b > a:\n",
        "  print(\"b is greater than a\")\n",
        "elif a == b:\n",
        "  print(\"a and b are equal\")"
      ],
      "execution_count": null,
      "outputs": []
    },
    {
      "cell_type": "markdown",
      "metadata": {
        "id": "AC9MeRnChL7a"
      },
      "source": [
        "## Else\n",
        "The ```else``` keyword catches anything which isn't caught by the preceding conditions."
      ]
    },
    {
      "cell_type": "code",
      "metadata": {
        "id": "G8Aw_2VnhLio"
      },
      "source": [
        "a = 200\n",
        "b = 33\n",
        "if b > a:\n",
        "  print(\"b is greater than a\")\n",
        "elif a == b:\n",
        "  print(\"a and b are equal\")\n",
        "else:\n",
        "  print(\"a is greater than b\")"
      ],
      "execution_count": null,
      "outputs": []
    },
    {
      "cell_type": "markdown",
      "metadata": {
        "id": "Z0AUrsMzACcH"
      },
      "source": [
        "## And\n",
        "The ```and``` keyword is a logical operator, and is used to combine conditional statements."
      ]
    },
    {
      "cell_type": "code",
      "metadata": {
        "id": "_ARQv1kRAGFP"
      },
      "source": [
        "a = 200\n",
        "b = 33\n",
        "c = 500\n",
        "if a > b and c > a:\n",
        "  print(\"Both conditions are true\")"
      ],
      "execution_count": null,
      "outputs": []
    },
    {
      "cell_type": "markdown",
      "metadata": {
        "id": "cycwfbqYAMAd"
      },
      "source": [
        "## Or\n",
        "The ```or``` keyword is a logical operator, and is used to combine conditional statements."
      ]
    },
    {
      "cell_type": "code",
      "metadata": {
        "id": "DSNuhZ7ZAQru"
      },
      "source": [
        "a = 200\n",
        "b = 33\n",
        "c = 500\n",
        "if a > b or a > c:\n",
        "  print(\"At least one of the conditions is true\")"
      ],
      "execution_count": null,
      "outputs": []
    },
    {
      "cell_type": "markdown",
      "metadata": {
        "id": "8nGlWqowAac8"
      },
      "source": [
        "## Nested If\n",
        "You can have if statements inside if statements, this is called nested if statements."
      ]
    },
    {
      "cell_type": "code",
      "metadata": {
        "id": "CuPAByPQAcVK"
      },
      "source": [
        "x = 41\n",
        "\n",
        "if x > 10:\n",
        "  print(\"Above ten,\")\n",
        "  if x > 20:\n",
        "    print(\"and also above 20!\")\n",
        "  else:\n",
        "    print(\"but not above 20.\")"
      ],
      "execution_count": null,
      "outputs": []
    },
    {
      "cell_type": "markdown",
      "metadata": {
        "id": "tfbIeRW7CwiW"
      },
      "source": [
        "## Practice Question 1\n",
        "Write a Python program to convert temperatures from celsius to fahrenheit , and vice versa.\n",
        "\n",
        "See formula below, where C = temperature in celsius and F = temperature in fahrenheit.\n",
        "\n",
        "![image-1.jpeg](data:image/jpeg;base64,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)"
      ]
    },
    {
      "cell_type": "code",
      "metadata": {
        "id": "YYYjGQ81DDs3"
      },
      "source": [
        "# change this value for a different result\n",
        "convert_to = 'fahrenheit'      # 'fahrenheit' or 'celsius'\n",
        "degree = 37.5                  # temperature value "
      ],
      "execution_count": null,
      "outputs": []
    },
    {
      "cell_type": "markdown",
      "metadata": {
        "id": "m0XM4b4_uPyl"
      },
      "source": [
        "# Loops\n",
        "Python has two primitive loop commands:\n",
        "\n",
        "* while loops\n",
        "* for loops"
      ]
    },
    {
      "cell_type": "markdown",
      "metadata": {
        "id": "11oo3GLEubKY"
      },
      "source": [
        "## While Loop\n",
        "With the while loop we can execute a set of statements as long as a condition is true."
      ]
    },
    {
      "cell_type": "code",
      "metadata": {
        "id": "NLx9AAyOug6y"
      },
      "source": [
        "# Print i as long as i is less than 6:\n",
        "\n",
        "i = 1\n",
        "while i < 6:\n",
        "  print(i)\n",
        "  i += 1"
      ],
      "execution_count": null,
      "outputs": []
    },
    {
      "cell_type": "markdown",
      "metadata": {
        "id": "e3ZTRr7nwyzy"
      },
      "source": [
        "### Break Statement\n",
        "With the break statement we can stop the loop even if the while condition is true."
      ]
    },
    {
      "cell_type": "code",
      "metadata": {
        "id": "PnJ1HEZnw2y4"
      },
      "source": [
        "# Exit the loop when i is 3:\n",
        "\n",
        "i = 1\n",
        "while i < 6:\n",
        "  print(i)\n",
        "  if i == 3:\n",
        "    break\n",
        "  i += 1"
      ],
      "execution_count": null,
      "outputs": []
    },
    {
      "cell_type": "markdown",
      "metadata": {
        "id": "ACPnY7v6w8_i"
      },
      "source": [
        "### Continue Statement\n",
        "With the continue statement we can stop the current iteration, and continue with the next."
      ]
    },
    {
      "cell_type": "code",
      "metadata": {
        "id": "Z7riJ_GexCpn"
      },
      "source": [
        "# Continue to the next iteration if i is 3\n",
        "\n",
        "i = 0\n",
        "while i < 6:\n",
        "  i += 1\n",
        "  if i == 3:\n",
        "    continue\n",
        "  print(i)"
      ],
      "execution_count": null,
      "outputs": []
    },
    {
      "cell_type": "markdown",
      "metadata": {
        "id": "2m0Fz-pPJGHr"
      },
      "source": [
        "## For Loops\n",
        "A for loop is used for iterating over a sequence (that is either a list, a tuple, a dictionary, a set, or a string).\n",
        "\n",
        "This is less like the ```for``` keyword in other programming languages, and works more like an iterator method as found in other object-orientated programming languages.\n",
        "\n",
        "With the for loop we can execute a set of statements, once for each item in a list, tuple, set etc."
      ]
    },
    {
      "cell_type": "code",
      "metadata": {
        "id": "rMcGgne_JKx0"
      },
      "source": [
        "# Print each fruit in a fruit list:\n",
        "\n",
        "fruits = [\"apple\", \"banana\", \"cherry\"]\n",
        "for x in fruits:\n",
        "  print(x)"
      ],
      "execution_count": null,
      "outputs": []
    },
    {
      "cell_type": "markdown",
      "metadata": {
        "id": "5VJDd7QD3F1k"
      },
      "source": [
        "The for loop does not require an indexing variable to set beforehand."
      ]
    },
    {
      "cell_type": "markdown",
      "metadata": {
        "id": "R0v2IBezJPWd"
      },
      "source": [
        "### Looping Through a String\n",
        "Even strings are iterable objects, they contain a sequence of characters."
      ]
    },
    {
      "cell_type": "code",
      "metadata": {
        "id": "xzXZFmo0JXVf"
      },
      "source": [
        "# Loop through the letters in the word \"banana\":\n",
        "\n",
        "for x in \"banana\":\n",
        "  print(x)"
      ],
      "execution_count": null,
      "outputs": []
    },
    {
      "cell_type": "markdown",
      "metadata": {
        "id": "vULDhv4oJfIt"
      },
      "source": [
        "### Break Statement\n",
        "With the break statement we can stop the loop before it has looped through all the items."
      ]
    },
    {
      "cell_type": "code",
      "metadata": {
        "id": "d2SgbhjCJijh"
      },
      "source": [
        "# Exit the loop when x is \"banana\":\n",
        "\n",
        "fruits = [\"apple\", \"banana\", \"cherry\"]\n",
        "for x in fruits:\n",
        "  print(x)\n",
        "  if x == \"banana\":\n",
        "    break"
      ],
      "execution_count": null,
      "outputs": []
    },
    {
      "cell_type": "markdown",
      "metadata": {
        "id": "fs1uoBbt6gsb"
      },
      "source": [
        "### Continue Statement\n",
        "With the continue statement we can stop the current iteration of the loop, and continue with the next:"
      ]
    },
    {
      "cell_type": "code",
      "metadata": {
        "id": "sCk19tmt6jKL"
      },
      "source": [
        "# Do not print banana:\n",
        "\n",
        "fruits = [\"apple\", \"banana\", \"cherry\"]\n",
        "for x in fruits:\n",
        "  if x == \"banana\":\n",
        "    continue\n",
        "  print(x)"
      ],
      "execution_count": null,
      "outputs": []
    },
    {
      "cell_type": "markdown",
      "metadata": {
        "id": "YDADjLOc6pTQ"
      },
      "source": [
        "### The ```range()``` Function\n",
        "To loop through a set of code a specified number of times, we can use the ```range()``` function.\n",
        "\n",
        "The ```range()``` function returns a sequence of numbers, starting from 0 by default, and increments by 1 (by default), and ends at a specified number."
      ]
    },
    {
      "cell_type": "code",
      "metadata": {
        "id": "UQwqL63660wv"
      },
      "source": [
        "# Using the range() function:\n",
        "\n",
        "for x in range(6):\n",
        "  print(x)\n"
      ],
      "execution_count": null,
      "outputs": []
    },
    {
      "cell_type": "markdown",
      "metadata": {
        "id": "dfSpzMSa66Q6"
      },
      "source": [
        "Note that ```range(6)``` is not the values of 0 to 6, but the values 0 to 5.\n",
        "\n",
        "The ```range()``` function defaults to 0 as a starting value, however it is possible to specify the starting value by adding a parameter: ```range(2, 6)```, which means values from 2 to 6 (but not including 6)."
      ]
    },
    {
      "cell_type": "code",
      "metadata": {
        "id": "ePKY6RFD7DSq"
      },
      "source": [
        "# Using the start parameter:\n",
        "\n",
        "for x in range(2, 6):\n",
        "  print(x)"
      ],
      "execution_count": null,
      "outputs": []
    },
    {
      "cell_type": "markdown",
      "metadata": {
        "id": "oeuXS4PI7I1q"
      },
      "source": [
        "The ```range()``` function defaults to increment the sequence by 1, however it is possible to specify the increment value by adding a third parameter: ```range(2, 30, 3)```."
      ]
    },
    {
      "cell_type": "code",
      "metadata": {
        "id": "4kRZeNyG7MPf"
      },
      "source": [
        "# Increment the sequence with 3 (default is 1):\n",
        "\n",
        "for x in range(2, 30, 3):\n",
        "  print(x)"
      ],
      "execution_count": null,
      "outputs": []
    },
    {
      "cell_type": "markdown",
      "metadata": {
        "id": "Z-AlFPym7s_h"
      },
      "source": [
        "## Nested Loops\n",
        "A nested loop is a loop inside a loop.\n",
        "\n",
        "The inner loop will be executed one time for each iteration of the outer loop.\n",
        "\n"
      ]
    },
    {
      "cell_type": "code",
      "metadata": {
        "id": "aMk8aMIN7vDk"
      },
      "source": [
        "# Print each adjective for every fruit:\n",
        "\n",
        "adj = [\"red\", \"big\", \"tasty\"]\n",
        "fruits = [\"apple\", \"banana\", \"cherry\"]\n",
        "\n",
        "for x in adj:\n",
        "  for y in fruits:\n",
        "    print(x, y)"
      ],
      "execution_count": null,
      "outputs": []
    },
    {
      "cell_type": "markdown",
      "metadata": {
        "id": "Uq9yYCbpDMnt"
      },
      "source": [
        "## Practice Question 2\n",
        "Write a Python program to construct the following pattern, using a nested for loop. [Hint: use \"end\" in print()]\n",
        "\n",
        "\\*\n",
        "\n",
        "\\*  \\* \n",
        "\n",
        "\\*  \\*  \\* \n",
        "\n",
        "\\* \\* \\* \\* \n",
        "\n",
        "\\* \\* \\* \\* \\*\n",
        "\n",
        "\\* \\* \\* \\* \n",
        "\n",
        "\\* \\* \\* \n",
        "\n",
        "\\* \\* \n",
        "\n",
        "\\*"
      ]
    },
    {
      "cell_type": "code",
      "metadata": {
        "id": "34PQiedKJGiU"
      },
      "source": [
        "n=5;\n",
        "for i in range(n):\n",
        "    for j in range(i):\n",
        "      print ('* ', end=\"\")\n",
        "    print('')\n",
        "\n",
        "# write code to print the rest"
      ],
      "execution_count": null,
      "outputs": []
    },
    {
      "cell_type": "markdown",
      "metadata": {
        "id": "4EZYwBH372y5"
      },
      "source": [
        "# Functions\n",
        "A function is a block of code which only runs when it is called.\n",
        "\n",
        "You can pass data, known as parameters, into a function.\n",
        "\n",
        "A function can return data as a result."
      ]
    },
    {
      "cell_type": "markdown",
      "metadata": {
        "id": "pxn1huvp51Mn"
      },
      "source": [
        "## Creating a Function\n",
        "In Python a function is defined using the def keyword:"
      ]
    },
    {
      "cell_type": "code",
      "metadata": {
        "id": "tps7weGr75tm"
      },
      "source": [
        "def my_function():\n",
        "  print(\"Hello from a function\")"
      ],
      "execution_count": null,
      "outputs": []
    },
    {
      "cell_type": "markdown",
      "metadata": {
        "id": "2jDO92VE7-32"
      },
      "source": [
        "## Calling a Function\n",
        "To call a function, use the function name followed by parenthesis.\n",
        "\n"
      ]
    },
    {
      "cell_type": "code",
      "metadata": {
        "id": "3rYYtHDm7-LY"
      },
      "source": [
        "def my_function():\n",
        "  print(\"Hello from a function\")\n",
        "\n",
        "my_function()"
      ],
      "execution_count": null,
      "outputs": []
    },
    {
      "cell_type": "markdown",
      "metadata": {
        "id": "G0JQkT5a_mlE"
      },
      "source": [
        "## Arguments\n",
        "Information can be passed into functions as arguments.\n",
        "\n",
        "Arguments are specified after the function name, inside the parentheses. You can add as many arguments as you want, just separate them with a comma.\n",
        "\n",
        "The following example has a function with one argument (fname). When the function is called, we pass along a first name, which is used inside the function to print the full name:"
      ]
    },
    {
      "cell_type": "code",
      "metadata": {
        "id": "VZCqURyv_qPt"
      },
      "source": [
        "def my_function(fname):\n",
        "  print(fname + \" Refsnes\")\n",
        "\n",
        "my_function(\"Emil\")\n",
        "my_function(\"Tobias\")\n",
        "my_function(\"Linus\")"
      ],
      "execution_count": null,
      "outputs": []
    },
    {
      "cell_type": "code",
      "metadata": {
        "id": "71YiU0sZ_4Lc"
      },
      "source": [
        "def my_function(fname, lname):\n",
        "  print(fname + \" \" + lname)\n",
        "\n",
        "my_function(\"Emil\", \"Refsnes\")"
      ],
      "execution_count": null,
      "outputs": []
    },
    {
      "cell_type": "markdown",
      "metadata": {
        "id": "GNPcdpOeCRtm"
      },
      "source": [
        "### Default Parameter Value\n",
        "The following example shows how to use a default parameter value.\n",
        "\n",
        "If we call the function without argument, it uses the default value:\n",
        "\n"
      ]
    },
    {
      "cell_type": "code",
      "metadata": {
        "id": "hafEMZcPCU8H"
      },
      "source": [
        "def my_function(country = \"Norway\"):\n",
        "  print(\"I am from \" + country)\n",
        "\n",
        "my_function(\"Sweden\")\n",
        "my_function(\"India\")\n",
        "my_function()\n",
        "my_function(\"Brazil\")"
      ],
      "execution_count": null,
      "outputs": []
    },
    {
      "cell_type": "markdown",
      "metadata": {
        "id": "XbNqYz-XCX0Y"
      },
      "source": [
        "### Passing a List as an Argument\n",
        "You can send any data types of argument to a function (string, number, list, dictionary etc.), and it will be treated as the same data type inside the function.\n",
        "\n",
        "E.g. if you send a list as an argument, it will still be a list when it reaches the function."
      ]
    },
    {
      "cell_type": "code",
      "metadata": {
        "id": "qnurrV43Caue"
      },
      "source": [
        "def my_function(food):\n",
        "  for x in food:\n",
        "    print(x)\n",
        "\n",
        "fruits = [\"apple\", \"banana\", \"cherry\"]\n",
        "\n",
        "my_function(fruits)"
      ],
      "execution_count": null,
      "outputs": []
    },
    {
      "cell_type": "markdown",
      "metadata": {
        "id": "irEzdChLCdG_"
      },
      "source": [
        "## Returning Values\n",
        "To let a function return a value, use the return statement."
      ]
    },
    {
      "cell_type": "code",
      "metadata": {
        "id": "yGwnHaX_CgBY"
      },
      "source": [
        "def my_function(x):\n",
        "  return 5 * x\n",
        "\n",
        "print(my_function(3))\n",
        "print(my_function(5))\n",
        "print(my_function(9))"
      ],
      "execution_count": null,
      "outputs": []
    },
    {
      "cell_type": "markdown",
      "metadata": {
        "id": "LBDDCsIOCjnH"
      },
      "source": [
        "## Recursion\n",
        "Python also accepts function recursion, which means a defined function can call itself.\n",
        "\n",
        "Recursion is a common mathematical and programming concept. It means that a function calls itself. This has the benefit of meaning that you can loop through data to reach a result.\n",
        "\n",
        "A developer should be very careful with recursion as it can be quite easy to slip into writing a function which never terminates, or one that uses excess amounts of memory or processor power. However, when written correctly recursion can be a very efficient and mathematically-elegant approach to programming.\n",
        "\n",
        "In this example, ```tri_recursion()``` is a function that we have defined to call itself (\"recurse\"). We use the ```k``` variable as the data, which decrements (-1) every time we recurse. The recursion ends when the condition is not greater than 0 (i.e. when it is 0).\n",
        "\n",
        "To a new developer, it can take some time to work out how exactly this works. The best way to find out is by testing and modifying it."
      ]
    },
    {
      "cell_type": "code",
      "metadata": {
        "id": "lxkeQvibCjUE"
      },
      "source": [
        "def tri_recursion(k):\n",
        "  if(k > 0):\n",
        "    result = k + tri_recursion(k - 1)\n",
        "    print(result)\n",
        "  else:\n",
        "    result = 0\n",
        "  return result\n",
        "\n",
        "print(\"\\n\\nRecursion Example Results\")\n",
        "tri_recursion(6)"
      ],
      "execution_count": null,
      "outputs": []
    },
    {
      "cell_type": "markdown",
      "metadata": {
        "id": "Ugb8ZBLQJk08"
      },
      "source": [
        "## Practice Question 3\n",
        "Write a Python function to find the max of three numbers."
      ]
    },
    {
      "cell_type": "code",
      "metadata": {
        "id": "MyFKKw7YJwU-"
      },
      "source": [
        "# insert code here"
      ],
      "execution_count": null,
      "outputs": []
    },
    {
      "cell_type": "markdown",
      "metadata": {
        "id": "LhYEEoGCJxUM"
      },
      "source": [
        "## Practice Question 4\n",
        "Write a Python function that checks whether a passed string is palindrome or not. \n",
        "\n",
        "A palindrome is a sequence of characters which reads the same backward as forward (e.g. madam)."
      ]
    },
    {
      "cell_type": "code",
      "metadata": {
        "id": "Tfr_kT3RJ34-"
      },
      "source": [
        "# insert code here"
      ],
      "execution_count": null,
      "outputs": []
    }
  ]
}