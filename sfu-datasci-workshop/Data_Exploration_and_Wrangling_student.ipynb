{
  "nbformat": 4,
  "nbformat_minor": 0,
  "metadata": {
    "colab": {
      "name": "Data Exploration and Wrangling - student.ipynb",
      "provenance": [],
      "collapsed_sections": [
        "Kt2UXdUfrKXi",
        "i9LF5-si9Q2E",
        "TI9oaXt6bJ3L"
      ],
      "include_colab_link": true
    },
    "kernelspec": {
      "display_name": "Python 3",
      "name": "python3"
    },
    "language_info": {
      "name": "python"
    }
  },
  "cells": [
    {
      "cell_type": "markdown",
      "metadata": {
        "id": "view-in-github",
        "colab_type": "text"
      },
      "source": [
        "<a href=\"https://colab.research.google.com/github/ThatNerdSquared/datasci/blob/main/Data_Exploration_and_Wrangling_student.ipynb\" target=\"_parent\"><img src=\"https://colab.research.google.com/assets/colab-badge.svg\" alt=\"Open In Colab\"/></a>"
      ]
    },
    {
      "cell_type": "markdown",
      "metadata": {
        "id": "O-SgrowIlPWL"
      },
      "source": [
        "# Data Exploration & Wrangling\n",
        "Authors: Neha Sharma, Saba Akhyani & Eva Yap"
      ]
    },
    {
      "cell_type": "markdown",
      "metadata": {
        "id": "wiYuyoXZoYsT"
      },
      "source": [
        "In this Colab notebook, you will practice using two package called pandas and NumPy to explore a data set. "
      ]
    },
    {
      "cell_type": "markdown",
      "metadata": {
        "id": "Hx20BLPwo3k4"
      },
      "source": [
        "\n",
        "\n",
        "\n",
        "## Importing libraries and dependencies\n",
        "We need pandas and NumPy for this exercise."
      ]
    },
    {
      "cell_type": "code",
      "metadata": {
        "id": "CKNgs_Huls0Z"
      },
      "source": [
        "# remember to annotate your code\n",
        "# load dependencies\n",
        "# First, we import the two libraries we need - pandas and numpy\n",
        "# We give them shorter names (pandas > pd and numpy > np) to make it shorter to type\n",
        "import pandas as pd\n",
        "import numpy as np"
      ],
      "execution_count": null,
      "outputs": []
    },
    {
      "cell_type": "markdown",
      "metadata": {
        "id": "UW9i5c8brt6I"
      },
      "source": [
        "## Load data\n",
        "\n",
        "Before processing our data, we need to get the files. In Google Colab at the left-hand side of the notebook, you will find a folder icon. When you click that you will find a tab with three options, you just have to select Files. Then you can easily upload your file with the help of the Upload option. No need to mount to the Google Drive or use any specific libraries just upload the data set and your job is done. One thing to remember in this step is that uploaded files will get deleted when this runtime is recycled. This is how I got the data set into the notebook."
      ]
    },
    {
      "cell_type": "markdown",
      "metadata": {
        "id": "FLwahGfSpYuO"
      },
      "source": [
        "## Load data into data frames\n",
        "\n",
        "In pandas, data is mainly stored in dataframes. Since our data is originally in a csv file, we need to first import the data from a csv file to a dataframe using the code below. \n",
        "You can perform similar imports with other file types. Read more about importing data here: https://www.datacamp.com/community/tutorials/importing-data-into-pandas\n",
        "\n"
      ]
    },
    {
      "cell_type": "code",
      "metadata": {
        "id": "m9tXxNjRlLN5"
      },
      "source": [
        "# load data\n",
        "waste_vs_gdp_df = pd.read_csv(\"plastic_waste_data.csv\", sep=\",\")"
      ],
      "execution_count": null,
      "outputs": []
    },
    {
      "cell_type": "markdown",
      "metadata": {
        "id": "oJOEw3vfx7nV"
      },
      "source": [
        "\n",
        "\n",
        "\n",
        "##Taking a closer look at the data\n",
        "\n",
        "\n",
        "Now we will use some functions to actually explore the data more.\n",
        "\n",
        "\n"
      ]
    },
    {
      "cell_type": "code",
      "metadata": {
        "id": "lTj6IeluwsGX"
      },
      "source": [
        "# Now lets findout how many rows and columns are there in our data\n"
      ],
      "execution_count": null,
      "outputs": []
    },
    {
      "cell_type": "code",
      "metadata": {
        "id": "bEfnnq4s2_dB"
      },
      "source": [
        "# we can also see what column headings (labels) are there \n"
      ],
      "execution_count": null,
      "outputs": []
    },
    {
      "cell_type": "code",
      "metadata": {
        "id": "kZvYXnDB0spg"
      },
      "source": [
        "# we can even display the first 5 rows of the csv file\n"
      ],
      "execution_count": null,
      "outputs": []
    },
    {
      "cell_type": "markdown",
      "metadata": {
        "id": "FQlDLLIKegQD"
      },
      "source": [
        "\n",
        "\n",
        "\n",
        "## Selecting specific rows/columns\n",
        "\n",
        "\n",
        "You can select a single column to look at.\n",
        "You can also select a specific range of rows / single rows to get data from it. This would be helpful later when we want to show all of the information about a specific row when it has a specific value on one column. For example, to show the information about a row where the population column has the minimum value in.\n",
        "\n"
      ]
    },
    {
      "cell_type": "code",
      "metadata": {
        "id": "d5vAlPpkKuMt"
      },
      "source": [
        "# Getting columns:\n",
        "\n",
        "# we can You can select a single column and only look at that one column.\n",
        "# This might be helpful if you're looking for something specific in that column.\n",
        "waste_vs_gdp_df['Total population (Gapminder)']"
      ],
      "execution_count": null,
      "outputs": []
    },
    {
      "cell_type": "code",
      "metadata": {
        "id": "DhR0FFyYfifc"
      },
      "source": [
        "# Getting rows:\n",
        "# You can also select only certain rows in your data set. This might be helpful\n",
        "# if you're dividing up a large data set or if you want to spot check your data after you sort it.\n"
      ],
      "execution_count": null,
      "outputs": []
    },
    {
      "cell_type": "code",
      "metadata": {
        "id": "SRGKhtq3nf0D"
      },
      "source": [
        "# selecting only those rows where the year is 2010\n",
        "waste_vs_gdp_df[waste_vs_gdp_df['Year']==2010]"
      ],
      "execution_count": null,
      "outputs": []
    },
    {
      "cell_type": "code",
      "metadata": {
        "id": "hIFOQX7nA3k9"
      },
      "source": [
        "# data types\n",
        "waste_vs_gdp_df.dtypes"
      ],
      "execution_count": null,
      "outputs": []
    },
    {
      "cell_type": "markdown",
      "metadata": {
        "id": "_cKJBZR9BDXj"
      },
      "source": [
        "Check the data types in your data frame. Are they all correct? Sometimes there are errors importing.\n",
        "\n",
        "For more information about data types in pandas, and what the options for data types are, read this: https://pbpython.com/pandas_dtypes.html"
      ]
    },
    {
      "cell_type": "markdown",
      "metadata": {
        "id": "F1byVM2JCriL"
      },
      "source": [
        "## Data normalization\n",
        "As you can see in the data, we are here facing the total waste, which might not be an accurate representation of our data. It is unfair to compare countries total waste regardless of their population. Here, we want to \"normalize\" data, so the interpration of the data makes more sense. <br>\n",
        "\n",
        "Essentially, what we can do is defining a variable named \"Per capita waste\", just like GDP per capita, so that we can have a fair comparison between countries."
      ]
    },
    {
      "cell_type": "code",
      "metadata": {
        "id": "UdVjCpXoxe-M"
      },
      "source": [
        "# normalizing data based on total waste\n",
        "# Hint: Total waste = Per capita waste * Total population\n"
      ],
      "execution_count": null,
      "outputs": []
    },
    {
      "cell_type": "code",
      "metadata": {
        "id": "Jb_lyDzaqWY5"
      },
      "source": [
        "# let's check out math\n",
        "# pick Belize in 2010\n",
        "# does per capita waste = total waste / total population\n",
        "waste_vs_gdp_df[(waste_vs_gdp_df['Entity']=='Belize') & (waste_vs_gdp_df['Year']==2010)]"
      ],
      "execution_count": null,
      "outputs": []
    },
    {
      "cell_type": "code",
      "metadata": {
        "id": "pC0eLvnsrxzh"
      },
      "source": [
        "# let's do some math\n"
      ],
      "execution_count": null,
      "outputs": []
    },
    {
      "cell_type": "markdown",
      "metadata": {
        "id": "B1mPlr3onPpI"
      },
      "source": [
        "## Sorting\n",
        "\n",
        "When you're sorting or manipulating data, it's important that you keep the data that occurs in a single row intact, since the row contains data that is all related to each other. We don't want to sort one column, but leave the rest of the columns as they are, because then our data would not be useful.\n",
        "\n",
        "When sorting, all of the rows and columns will be impacted."
      ]
    },
    {
      "cell_type": "code",
      "metadata": {
        "id": "GkOBiLBhnUKo"
      },
      "source": [
        "# This sorts the rows so that the rows with the lowest Per capita plastic waste value are at the top\n",
        "waste_vs_gdp_df.sort_values(by='Per capita waste (kilograms per person per day)') "
      ],
      "execution_count": null,
      "outputs": []
    },
    {
      "cell_type": "code",
      "metadata": {
        "id": "MYRR9sNjnr9s"
      },
      "source": [
        "# See the highest per capita waste on top\n"
      ],
      "execution_count": null,
      "outputs": []
    },
    {
      "cell_type": "markdown",
      "metadata": {
        "id": "knHKJ0T6BRmz"
      },
      "source": [
        "## Describe\n",
        "\n",
        "We can use ```describe``` to find some patterns in our data. You can begin to understand some descriptive statistics, like count, mean, standard deviation, maximum, frequency, etc."
      ]
    },
    {
      "cell_type": "code",
      "metadata": {
        "id": "SaCxtsgEBYTT"
      },
      "source": [
        "waste_vs_gdp_df.describe()"
      ],
      "execution_count": null,
      "outputs": []
    },
    {
      "cell_type": "markdown",
      "metadata": {
        "id": "nJXmfJ8eqf3X"
      },
      "source": [
        "\n",
        "\n",
        "\n",
        "## GroupBy\n",
        "\n",
        "\n",
        "```Groupby``` can help you to understand how your descriptive statistics (mean, count, median, min, max,...) might differ by groups in your data. This can be a very powerful tool for investigating what your data might show.\n",
        "\n",
        "\n"
      ]
    },
    {
      "cell_type": "code",
      "metadata": {
        "id": "MHrZ3M0RAl6Z"
      },
      "source": [
        "# groupBy country, then get mean\n",
        "waste_vs_gdp_df.groupby(by='Entity').mean()"
      ],
      "execution_count": null,
      "outputs": []
    },
    {
      "cell_type": "code",
      "metadata": {
        "id": "ODPd6DZiIDwo"
      },
      "source": [
        "# calculating the mean of year doesn't make any sense. let's get rid of it. \n",
        "waste_vs_gdp_df[['Entity', \n",
        "                 'GDP per capita, PPP (constant 2011 international $) (constant 2011 international $)',\n",
        "                 'Total population (Gapminder)', \n",
        "                 'Total waste (kilograms per day)', \n",
        "                 'Per capita waste (kilograms per person per day)']].groupby(by='Entity').mean()"
      ],
      "execution_count": null,
      "outputs": []
    },
    {
      "cell_type": "code",
      "metadata": {
        "id": "zzaotk9BJDZy"
      },
      "source": [
        "# let's only display the top 5 rows\n"
      ],
      "execution_count": null,
      "outputs": []
    },
    {
      "cell_type": "markdown",
      "metadata": {
        "id": "Kt2UXdUfrKXi"
      },
      "source": [
        "\n",
        "\n",
        "\n",
        "### Practice Question 1\n",
        "\n",
        "Calculate the maximum GDP per capita for each country and print the first 3 rows.\n",
        "\n",
        "\n",
        "\n",
        "\n"
      ]
    },
    {
      "cell_type": "code",
      "metadata": {
        "id": "zxeLGrnKryc8"
      },
      "source": [
        "# groupBy country, then get Max gdp for that \n",
        "# print only the first 3 rows\n"
      ],
      "execution_count": null,
      "outputs": []
    },
    {
      "cell_type": "markdown",
      "metadata": {
        "id": "VDlc9EbRCh6E"
      },
      "source": [
        "## Data aggregation\n",
        "We can use data aggregation when applying a specific function on a specific row/column (same as ```describe```, but only one function and not on the whole data).\n",
        "\n",
        "Format:\n",
        "```dataFrame.aggregate(func=None, axis=0, *args, **kwargs)```\n",
        "\n",
        "* ```func``` can be either: sum, mean, min, max.\n",
        "\n",
        "* axis: {0 or 'index', 1 or 'columns'}, default 0. If 0 or 'index': apply function to each column. If 1 or 'column': apply function to each row.\n",
        "\n"
      ]
    },
    {
      "cell_type": "code",
      "metadata": {
        "id": "S8KHjwX9Cpmc"
      },
      "source": [
        "# Applying aggregation across all the columns \n",
        "# min will be found for each numeric type column in the dataframe\n",
        "waste_vs_gdp_df.agg(['min'])"
      ],
      "execution_count": null,
      "outputs": []
    },
    {
      "cell_type": "code",
      "metadata": {
        "id": "VGK9_qAngJA0"
      },
      "source": [
        "# We can also find the index of the row where Per capita waste (kilograms per person per day) has the minimum value\n",
        "# then, with the loc function, we can show the whole row\n",
        "#df[‘per capita’].idxmin() – > returns the index of the row where column name “Per capita waste (kilograms per person per day)” has minimum value.\n"
      ],
      "execution_count": null,
      "outputs": []
    },
    {
      "cell_type": "code",
      "metadata": {
        "id": "hM5rANUtlzAH"
      },
      "source": [
        "# this wont work since .agg does not say the index\n",
        "# waste_vs_gdp_df.loc[waste_vs_gdp_df.agg({'Per capita plastic waste (kilograms per person per day)' : ['min'], 'Total population (Gapminder)' : ['max']})"
      ],
      "execution_count": null,
      "outputs": []
    },
    {
      "cell_type": "code",
      "metadata": {
        "id": "ieeduae49mow"
      },
      "source": [
        "# we can also aggregate per column such that we have minimum per capita plastic waste and maximum population\n"
      ],
      "execution_count": null,
      "outputs": []
    },
    {
      "cell_type": "markdown",
      "metadata": {
        "id": "i9LF5-si9Q2E"
      },
      "source": [
        "\n",
        "\n",
        "\n",
        "### Practice Question 2\n",
        "\n",
        "Print the whole row where per capita waste has the maximum value.\n",
        "\n",
        "\n",
        "\n",
        "\n",
        "\n",
        "\n"
      ]
    },
    {
      "cell_type": "code",
      "metadata": {
        "id": "rA7PPi1PbKMP"
      },
      "source": [
        ""
      ],
      "execution_count": null,
      "outputs": []
    },
    {
      "cell_type": "markdown",
      "metadata": {
        "id": "TI9oaXt6bJ3L"
      },
      "source": [
        "### Practice Question 3\n",
        "Print the mean GDP per capita and the sum of per capita waste."
      ]
    },
    {
      "cell_type": "code",
      "metadata": {
        "id": "HGGae9XgfJ4P"
      },
      "source": [
        ""
      ],
      "execution_count": null,
      "outputs": []
    },
    {
      "cell_type": "markdown",
      "metadata": {
        "id": "KQpFKPpRDSUm"
      },
      "source": [
        "## Removing missing values\n",
        "\n",
        "We earlier showed where we could select specific rows with specific characteristics.\n",
        "\n",
        "More about missing values:\n",
        "https://www.w3schools.com/python/pandas/pandas_cleaning_empty_cells.asp"
      ]
    },
    {
      "cell_type": "code",
      "metadata": {
        "id": "gVYIuCDVWA5C"
      },
      "source": [
        "waste_vs_gdp_df[waste_vs_gdp_df['Year']==2010]"
      ],
      "execution_count": null,
      "outputs": []
    },
    {
      "cell_type": "markdown",
      "metadata": {
        "id": "cDd8eDBGWI4v"
      },
      "source": [
        "As you can see, there are ```NaN``` values. So first we wanna get rid of that. We can either drop that specific rows, or just create a new dataframe and save our desired data into it."
      ]
    },
    {
      "cell_type": "code",
      "metadata": {
        "id": "-5FmxwGkWCMG"
      },
      "source": [
        "# first get rid of the NaN values on Per Capita waste column\n",
        "waste_vs_gdp_df[waste_vs_gdp_df['Per capita waste (kilograms per person per day)'].notnull()]"
      ],
      "execution_count": null,
      "outputs": []
    },
    {
      "cell_type": "code",
      "metadata": {
        "id": "B0LWjtr3l3pX"
      },
      "source": [
        "# then the NaN values on the GDP column and then on the total population\n",
        "waste_vs_gdp_df[waste_vs_gdp_df['GDP per capita, PPP (constant 2011 international $) (constant 2011 international $)'].notnull()]"
      ],
      "execution_count": null,
      "outputs": []
    },
    {
      "cell_type": "code",
      "metadata": {
        "id": "Ngyvl8zWmdR_"
      },
      "source": [
        "waste_vs_gdp_df[waste_vs_gdp_df['Total population (Gapminder)'].notnull()]"
      ],
      "execution_count": null,
      "outputs": []
    },
    {
      "cell_type": "code",
      "metadata": {
        "id": "oMrFRbw8lBnO"
      },
      "source": [
        "# Or we can just add them all at once and also put them in a new dataframe, just to be easier to work with\n",
        "clean_df = "
      ],
      "execution_count": null,
      "outputs": []
    },
    {
      "cell_type": "markdown",
      "metadata": {
        "id": "fTcTn9kMhml0"
      },
      "source": [
        "## Saving as a file for later possible use\n"
      ]
    },
    {
      "cell_type": "code",
      "metadata": {
        "id": "O0BsyDFLhl5p"
      },
      "source": [
        "\n",
        "from google.colab import files\n",
        "\n",
        "clean_df.to_csv('clean_data.csv')\n",
        "files.download('clean_data.csv')"
      ],
      "execution_count": null,
      "outputs": []
    }
  ]
}