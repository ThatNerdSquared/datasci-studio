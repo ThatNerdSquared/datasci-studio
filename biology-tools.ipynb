{
 "cells": [
  {
   "cell_type": "markdown",
   "metadata": {},
   "source": [
    "# Biology Tools"
   ]
  },
  {
   "cell_type": "code",
   "execution_count": 53,
   "metadata": {},
   "outputs": [],
   "source": [
    "# Imports\n",
    "import pandas as pd\n",
    "import ipywidgets as widgets\n",
    "import numpy as np"
   ]
  },
  {
   "cell_type": "code",
   "execution_count": 54,
   "metadata": {},
   "outputs": [],
   "source": [
    "# Get all possible allele combinations from the parent genotypes (input)\n",
    "def alleles_combos(parent1_alleles, parent2_alleles):\n",
    "    data = []\n",
    "\n",
    "    for parent1_allele in parent1_alleles:\n",
    "        allele_data = []\n",
    "        for parent2_allele in parent2_alleles:\n",
    "            allele_data.append(parent1_allele + parent2_allele)\n",
    "        data.append(allele_data)\n",
    "\n",
    "    return data"
   ]
  },
  {
   "cell_type": "markdown",
   "metadata": {},
   "source": [
    "## Punnett Square - 4x4"
   ]
  },
  {
   "cell_type": "code",
   "execution_count": 75,
   "metadata": {},
   "outputs": [],
   "source": [
    "def update_punnett(change):\n",
    "    punnett_square.clear_output()\n",
    "    simple_punnett.clear_output()\n",
    "    with punnett_square:\n",
    "        parent1 = ask_parent1.value\n",
    "        parent2 = ask_parent2.value\n",
    "\n",
    "        parent1_alleles = [parent1[0] + parent1[2], parent1[0] + parent1[3], parent1[1] + parent1[2], parent1[1] + parent1[3]]\n",
    "        parent2_alleles = [parent2[0] + parent2[2], parent2[0] + parent2[3], parent2[1] + parent2[2], parent2[1] + parent2[3]]\n",
    "        data = alleles_combos(parent1_alleles, parent2_alleles)\n",
    "        df = pd.DataFrame(data, index=parent2_alleles, columns=parent1_alleles)\n",
    "\n",
    "        display(df)"
   ]
  },
  {
   "cell_type": "code",
   "execution_count": 76,
   "metadata": {
    "tags": []
   },
   "outputs": [
    {
     "data": {
      "application/vnd.jupyter.widget-view+json": {
       "model_id": "b32bc7922132428eba98164e56824782",
       "version_major": 2,
       "version_minor": 0
      },
      "text/plain": [
       "Text(value='', description=\"What is the first parent's genotype?\", placeholder='SsFf')"
      ]
     },
     "metadata": {},
     "output_type": "display_data"
    },
    {
     "data": {
      "application/vnd.jupyter.widget-view+json": {
       "model_id": "f8780d36e8a34b41bbe932e71e88d519",
       "version_major": 2,
       "version_minor": 0
      },
      "text/plain": [
       "Text(value='', description=\"What is the second parent's genotype?\", placeholder='SsFf')"
      ]
     },
     "metadata": {},
     "output_type": "display_data"
    },
    {
     "data": {
      "application/vnd.jupyter.widget-view+json": {
       "model_id": "a5014c47186043dcb5ad26c61a5bfcc0",
       "version_major": 2,
       "version_minor": 0
      },
      "text/plain": [
       "Button(description='Generate Punnett', style=ButtonStyle())"
      ]
     },
     "metadata": {},
     "output_type": "display_data"
    }
   ],
   "source": [
    "ask_parent1 = widgets.Text(\n",
    "    placeholder='SsFf',\n",
    "    description='What is the first parent\\'s genotype?',\n",
    "    disabled=False\n",
    ")\n",
    "ask_parent2 = widgets.Text(\n",
    "    placeholder='SsFf',\n",
    "    description='What is the second parent\\'s genotype?',\n",
    "    disabled=False\n",
    ")\n",
    "button = widgets.Button(description='Generate Punnett')\n",
    "punnett_square = widgets.Output()\n",
    "display(ask_parent1, ask_parent2, button)\n",
    "#display(ask_parent1, ask_parent2)\n",
    "\n",
    "#ask_parent1.observe(update_punnett, names=\"value\")\n",
    "#ask_parent2.observe(update_punnett, names=\"value\")\n",
    "\n",
    "button.on_click(update_punnett)"
   ]
  },
  {
   "cell_type": "code",
   "execution_count": 77,
   "metadata": {
    "scrolled": true
   },
   "outputs": [
    {
     "data": {
      "application/vnd.jupyter.widget-view+json": {
       "model_id": "134883acd9424f4aa0b2ee8e93bfc654",
       "version_major": 2,
       "version_minor": 0
      },
      "text/plain": [
       "Output()"
      ]
     },
     "metadata": {},
     "output_type": "display_data"
    }
   ],
   "source": [
    "display(punnett_square)"
   ]
  },
  {
   "cell_type": "markdown",
   "metadata": {},
   "source": [
    "## Punnett Square - 2x2\n"
   ]
  },
  {
   "cell_type": "code",
   "execution_count": 70,
   "metadata": {},
   "outputs": [],
   "source": [
    "def update_simple_punnett(change):\n",
    "    punnett_square.clear_output()\n",
    "    simple_punnett.clear_output()\n",
    "    with simple_punnett:\n",
    "        parent1 = ask_parent1.value\n",
    "        parent2 = ask_parent2.value\n",
    "        \n",
    "        x_parent1_alleles = [parent1[0], parent1[1]]\n",
    "        x_parent2_alleles = [parent2[0], parent2[1]]\n",
    "        \n",
    "        data = alleles_combos(x_parent1_alleles, x_parent2_alleles)\n",
    "        df = pd.DataFrame(data, index=x_parent2_alleles, columns=x_parent1_alleles)\n",
    "\n",
    "        display(df)"
   ]
  },
  {
   "cell_type": "code",
   "execution_count": 71,
   "metadata": {},
   "outputs": [
    {
     "data": {
      "application/vnd.jupyter.widget-view+json": {
       "model_id": "1ec7fc922a154e7d839a3cd856580bec",
       "version_major": 2,
       "version_minor": 0
      },
      "text/plain": [
       "Text(value='', description=\"What is the first parent's genotype?\", placeholder='Rr')"
      ]
     },
     "metadata": {},
     "output_type": "display_data"
    },
    {
     "data": {
      "application/vnd.jupyter.widget-view+json": {
       "model_id": "4afdb45134624f1fa1a1418289d81e95",
       "version_major": 2,
       "version_minor": 0
      },
      "text/plain": [
       "Text(value='', description=\"What is the second parent's genotype?\", placeholder='rr')"
      ]
     },
     "metadata": {},
     "output_type": "display_data"
    },
    {
     "data": {
      "application/vnd.jupyter.widget-view+json": {
       "model_id": "32a582698e4c4f2b95bfe9ced5045349",
       "version_major": 2,
       "version_minor": 0
      },
      "text/plain": [
       "Button(description='Generate Punnett', style=ButtonStyle())"
      ]
     },
     "metadata": {},
     "output_type": "display_data"
    }
   ],
   "source": [
    "ask_parent1 = widgets.Text(\n",
    "    placeholder='Rr',\n",
    "    description='What is the first parent\\'s genotype?',\n",
    "    disabled=False\n",
    ")\n",
    "ask_parent2 = widgets.Text(\n",
    "    placeholder='rr',\n",
    "    description='What is the second parent\\'s genotype?',\n",
    "    disabled=False\n",
    ")\n",
    "button = widgets.Button(description='Generate Punnett')\n",
    "\n",
    "x_parent1_alleles = [parent1[0], parent1[1]]\n",
    "x_parent2_alleles = [parent2[0], parent2[1]]\n",
    "\n",
    "simple_punnett = widgets.Output()\n",
    "display(ask_parent1, ask_parent2, button)\n",
    "\n",
    "button.on_click(update_simple_punnett)"
   ]
  },
  {
   "cell_type": "code",
   "execution_count": 72,
   "metadata": {},
   "outputs": [
    {
     "data": {
      "application/vnd.jupyter.widget-view+json": {
       "model_id": "807fc203a7ac41c690911176295fab79",
       "version_major": 2,
       "version_minor": 0
      },
      "text/plain": [
       "Output()"
      ]
     },
     "metadata": {},
     "output_type": "display_data"
    }
   ],
   "source": [
    "display(simple_punnett)"
   ]
  }
 ],
 "metadata": {
  "interpreter": {
   "hash": "50292dbb1f747f7151d445135d392af3138fb3c65386d17d9510cb605222b10b"
  },
  "kernelspec": {
   "display_name": "Python 3 (ipykernel)",
   "language": "python",
   "name": "python3"
  },
  "language_info": {
   "codemirror_mode": {
    "name": "ipython",
    "version": 3
   },
   "file_extension": ".py",
   "mimetype": "text/x-python",
   "name": "python",
   "nbconvert_exporter": "python",
   "pygments_lexer": "ipython3",
   "version": "3.9.9"
  }
 },
 "nbformat": 4,
 "nbformat_minor": 4
}
