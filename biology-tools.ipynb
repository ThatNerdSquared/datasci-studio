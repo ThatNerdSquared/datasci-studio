{
 "cells": [
  {
   "cell_type": "markdown",
   "metadata": {},
   "source": [
    "# Biology Tools"
   ]
  },
  {
   "cell_type": "code",
   "execution_count": 3,
   "metadata": {},
   "outputs": [],
   "source": [
    "# Imports\n",
    "import pandas as pd\n",
    "import ipywidgets as widgets\n",
    "import numpy as np"
   ]
  },
  {
   "cell_type": "code",
   "execution_count": 4,
   "metadata": {},
   "outputs": [],
   "source": [
    "# Get all possible allele combinations from the parent genotypes (input)\n",
    "def alleles_combos(parent1_alleles, parent2_alleles):\n",
    "    data = []\n",
    "\n",
    "    for parent1_allele in parent1_alleles:\n",
    "        allele_data = []\n",
    "        for parent2_allele in parent2_alleles:\n",
    "            allele_data.append(parent1_allele + parent2_allele)\n",
    "        data.append(allele_data)\n",
    "\n",
    "    return data"
   ]
  },
  {
   "cell_type": "markdown",
   "metadata": {},
   "source": [
    "## Punnett Square - 4x4"
   ]
  },
  {
   "cell_type": "code",
   "execution_count": 5,
   "metadata": {},
   "outputs": [],
   "source": [
    "def update_punnett(change):\n",
    "    punnett_square.clear_output()\n",
    "    simple_punnett.clear_output()\n",
    "    with punnett_square:\n",
    "        parent1 = ask_parent1.value\n",
    "        parent2 = ask_parent2.value\n",
    "\n",
    "        parent1_alleles = [parent1[0] + parent1[2], parent1[0] + parent1[3], parent1[1] + parent1[2], parent1[1] + parent1[3]]\n",
    "        parent2_alleles = [parent2[0] + parent2[2], parent2[0] + parent2[3], parent2[1] + parent2[2], parent2[1] + parent2[3]]\n",
    "        data = alleles_combos(parent1_alleles, parent2_alleles)\n",
    "        df = pd.DataFrame(data, index=parent2_alleles, columns=parent1_alleles)\n",
    "\n",
    "        display(df)"
   ]
  },
  {
   "cell_type": "code",
   "execution_count": 6,
   "metadata": {
    "tags": []
   },
   "outputs": [
    {
     "data": {
      "application/vnd.jupyter.widget-view+json": {
       "model_id": "fd223c209bb142489209b26b7f863f1b",
       "version_major": 2,
       "version_minor": 0
      },
      "text/plain": [
       "Text(value='', description=\"What is the first parent's genotype?\", layout=Layout(width='max-content'), placeho…"
      ]
     },
     "metadata": {},
     "output_type": "display_data"
    },
    {
     "data": {
      "application/vnd.jupyter.widget-view+json": {
       "model_id": "7400a15bc915460aa202fa5e6e2e0b21",
       "version_major": 2,
       "version_minor": 0
      },
      "text/plain": [
       "Text(value='', description=\"What is the second parent's genotype?\", layout=Layout(width='max-content'), placeh…"
      ]
     },
     "metadata": {},
     "output_type": "display_data"
    },
    {
     "data": {
      "application/vnd.jupyter.widget-view+json": {
       "model_id": "1931defc5d49404eaec079e31845a732",
       "version_major": 2,
       "version_minor": 0
      },
      "text/plain": [
       "Button(description='Generate Punnett', style=ButtonStyle())"
      ]
     },
     "metadata": {},
     "output_type": "display_data"
    }
   ],
   "source": [
    "style = {'description_width': 'initial'}\n",
    "\n",
    "ask_parent1 = widgets.Text(\n",
    "    placeholder='SsFf',\n",
    "    description='What is the first parent\\'s genotype?',\n",
    "    disabled=False,\n",
    "    layout = {'width': 'max-content'},\n",
    "    style=style\n",
    ")\n",
    "ask_parent2 = widgets.Text(\n",
    "    placeholder='SsFf',\n",
    "    description='What is the second parent\\'s genotype?',\n",
    "    disabled=False,\n",
    "    layout = {'width': 'max-content'},\n",
    "    style=style\n",
    ")\n",
    "button = widgets.Button(description='Generate Punnett')\n",
    "punnett_square = widgets.Output()\n",
    "display(ask_parent1, ask_parent2, button)\n",
    "#display(ask_parent1, ask_parent2)\n",
    "\n",
    "#ask_parent1.observe(update_punnett, names=\"value\")\n",
    "#ask_parent2.observe(update_punnett, names=\"value\")\n",
    "\n",
    "button.on_click(update_punnett)"
   ]
  },
  {
   "cell_type": "code",
   "execution_count": 7,
   "metadata": {
    "scrolled": true
   },
   "outputs": [
    {
     "data": {
      "application/vnd.jupyter.widget-view+json": {
       "model_id": "dd8ec6ff8909411a85036805813a16ad",
       "version_major": 2,
       "version_minor": 0
      },
      "text/plain": [
       "Output()"
      ]
     },
     "metadata": {},
     "output_type": "display_data"
    }
   ],
   "source": [
    "display(punnett_square)"
   ]
  },
  {
   "cell_type": "markdown",
   "metadata": {},
   "source": [
    "## Punnett Square - 2x2\n"
   ]
  },
  {
   "cell_type": "code",
   "execution_count": 8,
   "metadata": {},
   "outputs": [],
   "source": [
    "def update_simple_punnett(change):\n",
    "    punnett_square.clear_output()\n",
    "    simple_punnett.clear_output()\n",
    "    with simple_punnett:\n",
    "        sp_parent1 = sp_ask_parent1.value\n",
    "        sp_parent2 = sp_ask_parent2.value\n",
    "        \n",
    "        sp_parent1_alleles = [sp_parent1[0], sp_parent1[1]]\n",
    "        sp_parent2_alleles = [sp_parent2[0], sp_parent2[1]]\n",
    "        \n",
    "        data = alleles_combos(sp_parent1_alleles, sp_parent2_alleles)\n",
    "        df = pd.DataFrame(data, index=sp_parent2_alleles, columns=sp_parent1_alleles)\n",
    "\n",
    "        display(df)"
   ]
  },
  {
   "cell_type": "code",
   "execution_count": 9,
   "metadata": {},
   "outputs": [
    {
     "data": {
      "application/vnd.jupyter.widget-view+json": {
       "model_id": "2ed9427d95a64a7aae6f6cf38a5ca2a2",
       "version_major": 2,
       "version_minor": 0
      },
      "text/plain": [
       "Text(value='', description=\"What is the first parent's genotype?\", layout=Layout(width='max-content'), placeho…"
      ]
     },
     "metadata": {},
     "output_type": "display_data"
    },
    {
     "data": {
      "application/vnd.jupyter.widget-view+json": {
       "model_id": "b01d3f68e8f7418abc951412b720d876",
       "version_major": 2,
       "version_minor": 0
      },
      "text/plain": [
       "Text(value='', description=\"What is the second parent's genotype?\", layout=Layout(width='max-content'), placeh…"
      ]
     },
     "metadata": {},
     "output_type": "display_data"
    },
    {
     "data": {
      "application/vnd.jupyter.widget-view+json": {
       "model_id": "a46a328c9209497a9f29e430532786ad",
       "version_major": 2,
       "version_minor": 0
      },
      "text/plain": [
       "Button(description='Generate Punnett', style=ButtonStyle())"
      ]
     },
     "metadata": {},
     "output_type": "display_data"
    }
   ],
   "source": [
    "style = {'description_width': 'initial'}\n",
    "\n",
    "sp_ask_parent1 = widgets.Text(\n",
    "    placeholder='Rr',\n",
    "    description='What is the first parent\\'s genotype?',\n",
    "    disabled=False,\n",
    "    layout = {'width': 'max-content'},\n",
    "    style=style\n",
    ")\n",
    "sp_ask_parent2 = widgets.Text(\n",
    "    placeholder='rr',\n",
    "    description='What is the second parent\\'s genotype?',\n",
    "    disabled=False,\n",
    "    layout = {'width': 'max-content'},\n",
    "    style=style\n",
    ")\n",
    "sp_button = widgets.Button(description='Generate Punnett')\n",
    "\n",
    "simple_punnett = widgets.Output()\n",
    "display(sp_ask_parent1, sp_ask_parent2, sp_button)\n",
    "\n",
    "sp_button.on_click(update_simple_punnett)"
   ]
  },
  {
   "cell_type": "code",
   "execution_count": 10,
   "metadata": {},
   "outputs": [
    {
     "data": {
      "application/vnd.jupyter.widget-view+json": {
       "model_id": "52addb04d97a4731bc93dbe28f72428e",
       "version_major": 2,
       "version_minor": 0
      },
      "text/plain": [
       "Output()"
      ]
     },
     "metadata": {},
     "output_type": "display_data"
    }
   ],
   "source": [
    "display(simple_punnett)"
   ]
  }
 ],
 "metadata": {
  "interpreter": {
   "hash": "50292dbb1f747f7151d445135d392af3138fb3c65386d17d9510cb605222b10b"
  },
  "kernelspec": {
   "display_name": "Python 3 (ipykernel)",
   "language": "python",
   "name": "python3"
  },
  "language_info": {
   "codemirror_mode": {
    "name": "ipython",
    "version": 3
   },
   "file_extension": ".py",
   "mimetype": "text/x-python",
   "name": "python",
   "nbconvert_exporter": "python",
   "pygments_lexer": "ipython3",
   "version": "3.9.9"
  }
 },
 "nbformat": 4,
 "nbformat_minor": 4
}
