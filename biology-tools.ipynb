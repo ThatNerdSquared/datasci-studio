{
 "cells": [
  {
   "cell_type": "markdown",
   "metadata": {},
   "source": [
    "# Biology Tools"
   ]
  },
  {
   "cell_type": "code",
   "execution_count": 1,
   "metadata": {},
   "outputs": [],
   "source": [
    "# Imports\n",
    "import pandas as pd\n",
    "import ipywidgets as widgets\n",
    "import numpy as np"
   ]
  },
  {
   "cell_type": "code",
   "execution_count": 2,
   "metadata": {},
   "outputs": [],
   "source": [
    "# Get all possible allele combinations from the parent genotypes (input)\n",
    "def alleles_combos(parent1_alleles, parent2_alleles):\n",
    "    data = []\n",
    "\n",
    "    for parent1_allele in parent1_alleles:\n",
    "        allele_data = []\n",
    "        for parent2_allele in parent2_alleles:\n",
    "            allele_data.append(parent1_allele + parent2_allele)\n",
    "        data.append(allele_data)\n",
    "\n",
    "    return data"
   ]
  },
  {
   "cell_type": "markdown",
   "metadata": {},
   "source": [
    "## Punnett Square - 4x4"
   ]
  },
  {
   "cell_type": "code",
   "execution_count": 3,
   "metadata": {},
   "outputs": [],
   "source": [
    "def update_punnett(change):\n",
    "    punnett_square.clear_output()\n",
    "    with punnett_square:\n",
    "        parent1 = ask_parent1.value\n",
    "        parent2 = ask_parent2.value\n",
    "\n",
    "        parent1_alleles = [parent1[0] + parent1[2], parent1[0] + parent1[3], parent1[1] + parent1[2], parent1[1] + parent1[3]]\n",
    "        parent2_alleles = [parent2[0] + parent2[2], parent2[0] + parent2[3], parent2[1] + parent2[2], parent2[1] + parent2[3]]\n",
    "        data = alleles_combos(parent1_alleles, parent2_alleles)\n",
    "        df = pd.DataFrame(data, index=parent2_alleles, columns=parent1_alleles)\n",
    "\n",
    "        display(df)"
   ]
  },
  {
   "cell_type": "code",
   "execution_count": 4,
   "metadata": {
    "tags": []
   },
   "outputs": [
    {
     "data": {
      "application/vnd.jupyter.widget-view+json": {
       "model_id": "df9b44107ab1407c9e4b0042d9cf73a7",
       "version_major": 2,
       "version_minor": 0
      },
      "text/plain": [
       "Text(value='', description=\"What is the first parent's genotype?\", placeholder='SsFf')"
      ]
     },
     "metadata": {},
     "output_type": "display_data"
    },
    {
     "data": {
      "application/vnd.jupyter.widget-view+json": {
       "model_id": "e150b7b5e225431cb6330a9a00ab779f",
       "version_major": 2,
       "version_minor": 0
      },
      "text/plain": [
       "Text(value='', description=\"What is the second parent's genotype?\", placeholder='SsFf')"
      ]
     },
     "metadata": {},
     "output_type": "display_data"
    },
    {
     "data": {
      "application/vnd.jupyter.widget-view+json": {
       "model_id": "d8bf53da7ac9457082ed5c8a25e99869",
       "version_major": 2,
       "version_minor": 0
      },
      "text/plain": [
       "Button(description='Display Chart', style=ButtonStyle())"
      ]
     },
     "metadata": {},
     "output_type": "display_data"
    }
   ],
   "source": [
    "ask_parent1 = widgets.Text(\n",
    "    placeholder='SsFf',\n",
    "    description='What is the first parent\\'s genotype?',\n",
    "    disabled=False\n",
    ")\n",
    "ask_parent2 = widgets.Text(\n",
    "    placeholder='SsFf',\n",
    "    description='What is the second parent\\'s genotype?',\n",
    "    disabled=False\n",
    ")\n",
    "button = widgets.Button(description='Generate Punnett')\n",
    "punnett_square = widgets.Output()\n",
    "display(ask_parent1, ask_parent2, button)\n",
    "\n",
    "button.on_click(update_punnett)"
   ]
  },
  {
   "cell_type": "code",
   "execution_count": 5,
   "metadata": {
    "scrolled": true
   },
   "outputs": [
    {
     "data": {
      "application/vnd.jupyter.widget-view+json": {
       "model_id": "d63d93f030024cfdb8b45cde8dd3cbe9",
       "version_major": 2,
       "version_minor": 0
      },
      "text/plain": [
       "Output()"
      ]
     },
     "metadata": {},
     "output_type": "display_data"
    }
   ],
   "source": [
    "display(punnett_square)"
   ]
  },
  {
   "cell_type": "markdown",
   "metadata": {},
   "source": [
    "## Punnett Square - 2x2\n"
   ]
  },
  {
   "cell_type": "code",
   "execution_count": 7,
   "metadata": {},
   "outputs": [
    {
     "data": {
      "text/html": [
       "<div>\n",
       "<style scoped>\n",
       "    .dataframe tbody tr th:only-of-type {\n",
       "        vertical-align: middle;\n",
       "    }\n",
       "\n",
       "    .dataframe tbody tr th {\n",
       "        vertical-align: top;\n",
       "    }\n",
       "\n",
       "    .dataframe thead th {\n",
       "        text-align: right;\n",
       "    }\n",
       "</style>\n",
       "<table border=\"1\" class=\"dataframe\">\n",
       "  <thead>\n",
       "    <tr style=\"text-align: right;\">\n",
       "      <th></th>\n",
       "      <th>X</th>\n",
       "      <th>^</th>\n",
       "    </tr>\n",
       "  </thead>\n",
       "  <tbody>\n",
       "    <tr>\n",
       "      <th>X</th>\n",
       "      <td>XX</td>\n",
       "      <td>XX</td>\n",
       "    </tr>\n",
       "    <tr>\n",
       "      <th>X</th>\n",
       "      <td>^X</td>\n",
       "      <td>^X</td>\n",
       "    </tr>\n",
       "  </tbody>\n",
       "</table>\n",
       "</div>"
      ],
      "text/plain": [
       "    X   ^\n",
       "X  XX  XX\n",
       "X  ^X  ^X"
      ]
     },
     "execution_count": 7,
     "metadata": {},
     "output_type": "execute_result"
    }
   ],
   "source": [
    "parent1 = input(\"What is the first parent's genotype?\")\n",
    "parent2 = input(\"What is the second parent's genotype?\")\n",
    "\n",
    "parent1_alleles = [parent1[0], parent1[1]]\n",
    "parent2_alleles = [parent2[0], parent2[1]]\n",
    "\n",
    "data = []\n",
    "\n",
    "for parent1_allele in parent1_alleles:\n",
    "\tallele_data = []\n",
    "\tfor parent2_allele in parent2_alleles:\n",
    "\t\tallele_data.append(parent1_allele + parent2_allele)\n",
    "\tdata.append(allele_data)\n",
    "\n",
    "df = pd.DataFrame(data, index=parent2_alleles, columns=parent1_alleles)\n",
    "df"
   ]
  }
 ],
 "metadata": {
  "interpreter": {
   "hash": "50292dbb1f747f7151d445135d392af3138fb3c65386d17d9510cb605222b10b"
  },
  "kernelspec": {
   "display_name": "Python 3 (ipykernel)",
   "language": "python",
   "name": "python3"
  },
  "language_info": {
   "codemirror_mode": {
    "name": "ipython",
    "version": 3
   },
   "file_extension": ".py",
   "mimetype": "text/x-python",
   "name": "python",
   "nbconvert_exporter": "python",
   "pygments_lexer": "ipython3",
   "version": "3.9.9"
  }
 },
 "nbformat": 4,
 "nbformat_minor": 4
}
