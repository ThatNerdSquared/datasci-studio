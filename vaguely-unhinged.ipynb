{
 "cells": [
  {
   "cell_type": "markdown",
   "id": "88dcb251-7163-4387-a775-545088e486d1",
   "metadata": {},
   "source": [
    "# vaguely unhinged"
   ]
  },
  {
   "cell_type": "markdown",
   "id": "026fd687-8354-4c81-a34b-7db7f66fe821",
   "metadata": {},
   "source": [
    "$$\n",
    "\\begin{align*}\n",
    "x_{CM} &= \\frac{1}{M}\\sum_{i=1}^{n}x_im_i \\\\\n",
    "y_{CM} &= \\frac{1}{M}\\sum_{i=1}^{n}y_im_i \\\\\n",
    "z_{CM} &= \\frac{1}{M}\\sum_{i=1}^{n}z_im_i \\\\\n",
    "\\end{align*}\n",
    "$$"
   ]
  },
  {
   "cell_type": "code",
   "execution_count": null,
   "id": "49e3eb4b-0812-4593-aa41-525c226cc9a0",
   "metadata": {},
   "outputs": [],
   "source": [
    "# import things\n",
    "import numpy as np\n",
    "from scipy import ndimage"
   ]
  },
  {
   "cell_type": "markdown",
   "id": "4247c74f-3e77-46b8-9b18-522f78d7f1e4",
   "metadata": {},
   "source": [
    "[scipy.ndimage.center_of_mass — SciPy v1.10.1 Manual](https://docs.scipy.org/doc/scipy/reference/generated/scipy.ndimage.center_of_mass.html)"
   ]
  },
  {
   "cell_type": "code",
   "execution_count": null,
   "id": "67f712e0-2ed0-40d7-8d8c-783f0e67cea9",
   "metadata": {},
   "outputs": [],
   "source": [
    "x = np.array(\n",
    "    []\n",
    ")"
   ]
  }
 ],
 "metadata": {
  "kernelspec": {
   "display_name": "Python 3 (ipykernel)",
   "language": "python",
   "name": "python3"
  },
  "language_info": {
   "codemirror_mode": {
    "name": "ipython",
    "version": 3
   },
   "file_extension": ".py",
   "mimetype": "text/x-python",
   "name": "python",
   "nbconvert_exporter": "python",
   "pygments_lexer": "ipython3",
   "version": "3.10.10"
  }
 },
 "nbformat": 4,
 "nbformat_minor": 5
}
